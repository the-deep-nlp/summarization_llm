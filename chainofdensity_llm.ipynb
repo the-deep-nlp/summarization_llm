{
 "cells": [
  {
   "cell_type": "code",
   "execution_count": 1,
   "metadata": {},
   "outputs": [
    {
     "name": "stderr",
     "output_type": "stream",
     "text": [
      "/home/rsh/projects/deepl/new_summarizer/.venv/lib/python3.8/site-packages/tqdm/auto.py:21: TqdmWarning: IProgress not found. Please update jupyter and ipywidgets. See https://ipywidgets.readthedocs.io/en/stable/user_install.html\n",
      "  from .autonotebook import tqdm as notebook_tqdm\n"
     ]
    }
   ],
   "source": [
    "import pandas as pd\n",
    "from typing import Callable, Optional\n",
    "from utils import (\n",
    "    convert_to_lst,\n",
    "    flatten_extend_1d,\n",
    "    flatten_extend_2d,\n",
    "    #tag_based_filter_1dsubpillars,\n",
    "    tag_based_filter_2dsubpillars_matrix,\n",
    "    tag_based_filter_sectors_2dsubpillars,\n",
    "    #summarization_evaluation,\n",
    "    #get_text_embeddings,\n",
    "    #get_keywords\n",
    ")\n",
    "\n",
    "import matplotlib.pyplot as plt\n",
    "\n",
    "from summarizer4 import SummarizerModel\n",
    "\n",
    "from reports_generator import ReportsGenerator"
   ]
  },
  {
   "cell_type": "code",
   "execution_count": 2,
   "metadata": {},
   "outputs": [
    {
     "name": "stderr",
     "output_type": "stream",
     "text": [
      "You are using the default legacy behaviour of the <class 'transformers.models.t5.tokenization_t5.T5Tokenizer'>. This is expected, and simply means that the `legacy` (previous) behavior will be used so nothing changes for you. If you want to use the new behaviour, set `legacy=False`. This should only be set if you understand what it means, and thouroughly read the reason why this was added as explained in https://github.com/huggingface/transformers/pull/24565\n"
     ]
    }
   ],
   "source": [
    "summarizer_inhouse = ReportsGenerator()"
   ]
  },
  {
   "cell_type": "code",
   "execution_count": 3,
   "metadata": {},
   "outputs": [],
   "source": [
    "ANALYSIS_FRAMEWORK_ID = 2341\n",
    "MAX_TOKENS_GENERATION = 64"
   ]
  },
  {
   "cell_type": "code",
   "execution_count": 4,
   "metadata": {},
   "outputs": [],
   "source": [
    "dataset_file = \"datasets/dataset-2023-10-05T10:18:21.127098.csv\""
   ]
  },
  {
   "cell_type": "code",
   "execution_count": 5,
   "metadata": {},
   "outputs": [],
   "source": [
    "df = pd.read_csv(dataset_file)"
   ]
  },
  {
   "cell_type": "code",
   "execution_count": 6,
   "metadata": {},
   "outputs": [
    {
     "data": {
      "text/html": [
       "<div>\n",
       "<style scoped>\n",
       "    .dataframe tbody tr th:only-of-type {\n",
       "        vertical-align: middle;\n",
       "    }\n",
       "\n",
       "    .dataframe tbody tr th {\n",
       "        vertical-align: top;\n",
       "    }\n",
       "\n",
       "    .dataframe thead th {\n",
       "        text-align: right;\n",
       "    }\n",
       "</style>\n",
       "<table border=\"1\" class=\"dataframe\">\n",
       "  <thead>\n",
       "    <tr style=\"text-align: right;\">\n",
       "      <th></th>\n",
       "      <th>project_id</th>\n",
       "      <th>lead_id</th>\n",
       "      <th>entry_id</th>\n",
       "      <th>af</th>\n",
       "      <th>excerpt</th>\n",
       "      <th>original_af_tags</th>\n",
       "      <th>entry_created</th>\n",
       "      <th>geoWidget</th>\n",
       "      <th>scaleWidget</th>\n",
       "      <th>matrix2dWidget</th>\n",
       "      <th>dateRangeWidget</th>\n",
       "      <th>matrix1dWidget</th>\n",
       "      <th>multiselectWidget</th>\n",
       "      <th>organigramWidget</th>\n",
       "    </tr>\n",
       "  </thead>\n",
       "  <tbody>\n",
       "    <tr>\n",
       "      <th>1219</th>\n",
       "      <td>3939</td>\n",
       "      <td>119038</td>\n",
       "      <td>761111</td>\n",
       "      <td>2341</td>\n",
       "      <td>In reaction to a video which revealed the stat...</td>\n",
       "      <td>{'geoWidget': [60913, 60875], 'scaleWidget': [...</td>\n",
       "      <td>2023-09-22 05:36:13.115160+00:00</td>\n",
       "      <td>[60913, 60875]</td>\n",
       "      <td>['fairly reliable']</td>\n",
       "      <td>[['education', 'capacities &amp; response-&gt;governm...</td>\n",
       "      <td>['21-09-2023']</td>\n",
       "      <td>NaN</td>\n",
       "      <td>NaN</td>\n",
       "      <td>NaN</td>\n",
       "    </tr>\n",
       "    <tr>\n",
       "      <th>1220</th>\n",
       "      <td>3939</td>\n",
       "      <td>119038</td>\n",
       "      <td>761112</td>\n",
       "      <td>2341</td>\n",
       "      <td>It was decided to reduce the number of student...</td>\n",
       "      <td>{'geoWidget': [60913, 60875], 'scaleWidget': [...</td>\n",
       "      <td>2023-09-22 05:36:13.306770+00:00</td>\n",
       "      <td>[60913, 60875]</td>\n",
       "      <td>['fairly reliable']</td>\n",
       "      <td>[['education', 'capacities &amp; response-&gt;governm...</td>\n",
       "      <td>['21-09-2023']</td>\n",
       "      <td>NaN</td>\n",
       "      <td>NaN</td>\n",
       "      <td>NaN</td>\n",
       "    </tr>\n",
       "    <tr>\n",
       "      <th>1221</th>\n",
       "      <td>3939</td>\n",
       "      <td>119041</td>\n",
       "      <td>761137</td>\n",
       "      <td>2341</td>\n",
       "      <td>With devastated populations scattered in the h...</td>\n",
       "      <td>{'geoWidget': [60875, 60909], 'scaleWidget': [...</td>\n",
       "      <td>2023-09-22 05:42:12.813664+00:00</td>\n",
       "      <td>[60875, 60909]</td>\n",
       "      <td>['fairly reliable']</td>\n",
       "      <td>[['cross', 'capacities &amp; response-&gt;government ...</td>\n",
       "      <td>['21-09-2023']</td>\n",
       "      <td>['humanitarian access-&gt;physical constraints']</td>\n",
       "      <td>NaN</td>\n",
       "      <td>NaN</td>\n",
       "    </tr>\n",
       "    <tr>\n",
       "      <th>1222</th>\n",
       "      <td>3939</td>\n",
       "      <td>119042</td>\n",
       "      <td>761148</td>\n",
       "      <td>2341</td>\n",
       "      <td>During a press conference which followed the G...</td>\n",
       "      <td>{'geoWidget': [60875, 60909], 'scaleWidget': [...</td>\n",
       "      <td>2023-09-22 05:48:12.188899+00:00</td>\n",
       "      <td>[60875, 60909]</td>\n",
       "      <td>['fairly reliable']</td>\n",
       "      <td>[['livelihoods', 'capacities &amp; response-&gt;gover...</td>\n",
       "      <td>['21-09-2023']</td>\n",
       "      <td>NaN</td>\n",
       "      <td>NaN</td>\n",
       "      <td>NaN</td>\n",
       "    </tr>\n",
       "    <tr>\n",
       "      <th>1223</th>\n",
       "      <td>3939</td>\n",
       "      <td>119042</td>\n",
       "      <td>761149</td>\n",
       "      <td>2341</td>\n",
       "      <td>The Minister Delegate in charge of Relations w...</td>\n",
       "      <td>{'geoWidget': [60875, 60909], 'scaleWidget': [...</td>\n",
       "      <td>2023-09-22 05:48:12.296583+00:00</td>\n",
       "      <td>[60875, 60909]</td>\n",
       "      <td>['fairly reliable']</td>\n",
       "      <td>[['cross', 'capacities &amp; response-&gt;government ...</td>\n",
       "      <td>['21-09-2023']</td>\n",
       "      <td>NaN</td>\n",
       "      <td>NaN</td>\n",
       "      <td>NaN</td>\n",
       "    </tr>\n",
       "  </tbody>\n",
       "</table>\n",
       "</div>"
      ],
      "text/plain": [
       "      project_id  lead_id  entry_id    af  \\\n",
       "1219        3939   119038    761111  2341   \n",
       "1220        3939   119038    761112  2341   \n",
       "1221        3939   119041    761137  2341   \n",
       "1222        3939   119042    761148  2341   \n",
       "1223        3939   119042    761149  2341   \n",
       "\n",
       "                                                excerpt  \\\n",
       "1219  In reaction to a video which revealed the stat...   \n",
       "1220  It was decided to reduce the number of student...   \n",
       "1221  With devastated populations scattered in the h...   \n",
       "1222  During a press conference which followed the G...   \n",
       "1223  The Minister Delegate in charge of Relations w...   \n",
       "\n",
       "                                       original_af_tags  \\\n",
       "1219  {'geoWidget': [60913, 60875], 'scaleWidget': [...   \n",
       "1220  {'geoWidget': [60913, 60875], 'scaleWidget': [...   \n",
       "1221  {'geoWidget': [60875, 60909], 'scaleWidget': [...   \n",
       "1222  {'geoWidget': [60875, 60909], 'scaleWidget': [...   \n",
       "1223  {'geoWidget': [60875, 60909], 'scaleWidget': [...   \n",
       "\n",
       "                         entry_created       geoWidget          scaleWidget  \\\n",
       "1219  2023-09-22 05:36:13.115160+00:00  [60913, 60875]  ['fairly reliable']   \n",
       "1220  2023-09-22 05:36:13.306770+00:00  [60913, 60875]  ['fairly reliable']   \n",
       "1221  2023-09-22 05:42:12.813664+00:00  [60875, 60909]  ['fairly reliable']   \n",
       "1222  2023-09-22 05:48:12.188899+00:00  [60875, 60909]  ['fairly reliable']   \n",
       "1223  2023-09-22 05:48:12.296583+00:00  [60875, 60909]  ['fairly reliable']   \n",
       "\n",
       "                                         matrix2dWidget dateRangeWidget  \\\n",
       "1219  [['education', 'capacities & response->governm...  ['21-09-2023']   \n",
       "1220  [['education', 'capacities & response->governm...  ['21-09-2023']   \n",
       "1221  [['cross', 'capacities & response->government ...  ['21-09-2023']   \n",
       "1222  [['livelihoods', 'capacities & response->gover...  ['21-09-2023']   \n",
       "1223  [['cross', 'capacities & response->government ...  ['21-09-2023']   \n",
       "\n",
       "                                     matrix1dWidget multiselectWidget  \\\n",
       "1219                                            NaN               NaN   \n",
       "1220                                            NaN               NaN   \n",
       "1221  ['humanitarian access->physical constraints']               NaN   \n",
       "1222                                            NaN               NaN   \n",
       "1223                                            NaN               NaN   \n",
       "\n",
       "     organigramWidget  \n",
       "1219              NaN  \n",
       "1220              NaN  \n",
       "1221              NaN  \n",
       "1222              NaN  \n",
       "1223              NaN  "
      ]
     },
     "execution_count": 6,
     "metadata": {},
     "output_type": "execute_result"
    }
   ],
   "source": [
    "df.tail(5)"
   ]
  },
  {
   "cell_type": "code",
   "execution_count": 7,
   "metadata": {},
   "outputs": [
    {
     "name": "stdout",
     "output_type": "stream",
     "text": [
      "Total rows in the dataset: 1224\n"
     ]
    }
   ],
   "source": [
    "print(f\"Total rows in the dataset: {df.shape[0]}\")"
   ]
  },
  {
   "cell_type": "code",
   "execution_count": 8,
   "metadata": {},
   "outputs": [],
   "source": [
    "df = df[df[\"af\"] == ANALYSIS_FRAMEWORK_ID]"
   ]
  },
  {
   "cell_type": "code",
   "execution_count": 9,
   "metadata": {},
   "outputs": [
    {
     "data": {
      "text/plain": [
       "(1224, 14)"
      ]
     },
     "execution_count": 9,
     "metadata": {},
     "output_type": "execute_result"
    }
   ],
   "source": [
    "df.shape"
   ]
  },
  {
   "cell_type": "code",
   "execution_count": 10,
   "metadata": {},
   "outputs": [],
   "source": [
    "pid = df[\"project_id\"][0] # todo: check if all rows contains the same project id"
   ]
  },
  {
   "cell_type": "code",
   "execution_count": 11,
   "metadata": {},
   "outputs": [],
   "source": [
    "df[\"matrix1dWidget\"] = df[\"matrix1dWidget\"].apply(convert_to_lst)\n",
    "df[\"matrix2dWidget\"] = df[\"matrix2dWidget\"].apply(convert_to_lst)\n",
    "df[\"scaleWidget\"] = df[\"scaleWidget\"].apply(convert_to_lst)"
   ]
  },
  {
   "cell_type": "code",
   "execution_count": 12,
   "metadata": {},
   "outputs": [],
   "source": [
    "def get_1dsubpillars_unique_lst(dataframe: pd.DataFrame) -> list:\n",
    "    matrix1d_tags = dataframe[\"matrix1dWidget\"]\n",
    "    matrix1d_tags.dropna(inplace=True)\n",
    "    unique_tags = set(flatten_extend_1d(matrix1d_tags.tolist()))\n",
    "    return list(unique_tags)\n",
    "    "
   ]
  },
  {
   "cell_type": "code",
   "execution_count": 13,
   "metadata": {},
   "outputs": [],
   "source": [
    "def get_2dsubpillars_unique_lst(dataframe: pd.DataFrame) -> list:\n",
    "    matrix2d_tags = dataframe[\"matrix2dWidget\"]\n",
    "    matrix2d_tags.dropna(inplace=True)\n",
    "    unique_tags = set(tuple(x) for x in flatten_extend_2d(matrix2d_tags.tolist()))\n",
    "    return list(unique_tags)"
   ]
  },
  {
   "cell_type": "code",
   "execution_count": 14,
   "metadata": {},
   "outputs": [],
   "source": [
    "def get_scalewidget_unique_lst(dataframe: pd.DataFrame) -> list:\n",
    "    scalewidget_tags = dataframe[\"scaleWidget\"]\n",
    "    scalewidget_tags.dropna(inplace=True)\n",
    "    unique_tags = set(flatten_extend_1d(scalewidget_tags.tolist()))\n",
    "    return list(unique_tags)"
   ]
  },
  {
   "cell_type": "code",
   "execution_count": 15,
   "metadata": {},
   "outputs": [
    {
     "data": {
      "text/plain": [
       "['information->information challenges',\n",
       " 'casualties->dead',\n",
       " 'shock /event/ongoing conditions->type and characteristics',\n",
       " 'context->economy',\n",
       " 'humanitarian profile->affected groups',\n",
       " 'flag->overview',\n",
       " 'humanitarian profile->population movement',\n",
       " 'context->legal  & policy',\n",
       " 'flag->key event',\n",
       " 'shock and events->type and characteristics',\n",
       " 'context->environment',\n",
       " 'flag->hazard & threats',\n",
       " 'information->information needs & gaps',\n",
       " 'context->politics',\n",
       " 'event/shock->shock/driver',\n",
       " 'humanitarian access->relief to beneficiaries',\n",
       " 'humanitarian access->beneficiaries to relief',\n",
       " 'context->demography',\n",
       " 'humanitarian profile->casualties',\n",
       " 'humanitarian access->physical constraints',\n",
       " 'humanitarian profile->push/pull factors',\n",
       " 'casualties->injured',\n",
       " 'humanitarian access->humanitarian access gaps',\n",
       " 'event/shock->underlying factors/pre-existing vulnerabilities',\n",
       " 'information->communication means & channels',\n",
       " 'flag->stakeholders']"
      ]
     },
     "execution_count": 15,
     "metadata": {},
     "output_type": "execute_result"
    }
   ],
   "source": [
    "matrix1dsubpillars_lst = get_1dsubpillars_unique_lst(df)\n",
    "matrix1dsubpillars_lst"
   ]
  },
  {
   "cell_type": "code",
   "execution_count": 16,
   "metadata": {},
   "outputs": [
    {
     "data": {
      "text/plain": [
       "[('shelter', 'humanitarian conditions->coping mechanisms'),\n",
       " ('protection', 'humanitarian conditions->physical & mental wellbeing'),\n",
       " ('logistics', 'humanitarian conditions->living standards'),\n",
       " ('shelter', 'humanitarian conditions->living standards'),\n",
       " ('education', 'capacities & response->system functionality'),\n",
       " ('education', 'capacities & response->government and local authorities'),\n",
       " ('wash', 'capacities & response->international actors'),\n",
       " ('agriculture', 'scope & scale->system disruption'),\n",
       " ('wash', 'scope & scale->damages & losses'),\n",
       " ('health', 'humanitarian conditions->humanitarian conditions'),\n",
       " ('livelihoods', 'capacities & response->system functionality'),\n",
       " ('livelihoods', 'capacities & response->rcrc movement'),\n",
       " ('livelihoods', 'capacities & response->government and local authorities'),\n",
       " ('cross', 'humanitarian conditions->humanitarian conditions'),\n",
       " ('logistics', 'capacities & response->system functionality'),\n",
       " ('wash', 'humanitarian conditions->living standards'),\n",
       " ('shelter', 'capacities & response->system functionality'),\n",
       " ('logistics', 'capacities & response->government and local authorities'),\n",
       " ('shelter', 'capacities & response->rcrc movement'),\n",
       " ('shelter', 'capacities & response->government and local authorities'),\n",
       " ('wash', 'humanitarian conditions->humanitarian conditions'),\n",
       " ('cross', 'capacities & response->rcrc movement'),\n",
       " ('nutrition', 'capacities & response->international actors'),\n",
       " ('health', 'capacities & response->national actors'),\n",
       " ('protection', 'capacities & response->international actors'),\n",
       " ('protection', 'scope & scale->damages & losses'),\n",
       " ('wash', 'capacities & response->rcrc movement'),\n",
       " ('livelihoods', 'humanitarian conditions->risks & vulnerabilities'),\n",
       " ('wash', 'capacities & response->government and local authorities'),\n",
       " ('food', 'capacities & response->response gaps'),\n",
       " ('logistics', 'capacities & response->international actors'),\n",
       " ('shelter', 'humanitarian conditions->risks & vulnerabilities'),\n",
       " ('education', 'humanitarian conditions->humanitarian conditions'),\n",
       " ('food', 'capacities & response->national actors'),\n",
       " ('livelihoods', 'humanitarian conditions->humanitarian conditions'),\n",
       " ('logistics', 'humanitarian conditions->humanitarian conditions'),\n",
       " ('protection', 'capacities & response->government and local authorities'),\n",
       " ('shelter', 'humanitarian conditions->humanitarian conditions'),\n",
       " ('agriculture', 'capacities & response->government and local authorities'),\n",
       " ('wash', 'humanitarian conditions->risks & vulnerabilities'),\n",
       " ('health', 'scope & scale->drivers/aggravating factors'),\n",
       " ('health', 'capacities & response->response gaps'),\n",
       " ('cross', 'scope & scale->drivers/aggravating factors'),\n",
       " ('cross', 'capacities & response->response gaps'),\n",
       " ('logistics', 'capacities & response->rcrc movement'),\n",
       " ('wash', 'capacities & response->response gaps'),\n",
       " ('cross', 'scope & scale'),\n",
       " ('food', 'humanitarian conditions->physical & mental wellbeing'),\n",
       " ('cross', 'capacities & response->national actors'),\n",
       " ('protection', 'humanitarian conditions->risks & vulnerabilities'),\n",
       " ('food', 'scope & scale->system disruption'),\n",
       " ('health', 'humanitarian conditions->coping mechanisms'),\n",
       " ('wash', 'capacities & response->national actors'),\n",
       " ('education', 'scope & scale->drivers/aggravating factors'),\n",
       " ('protection', 'humanitarian conditions->humanitarian conditions'),\n",
       " ('health', 'humanitarian conditions->physical & mental wellbeing'),\n",
       " ('livelihoods', 'scope & scale->drivers/aggravating factors'),\n",
       " ('food', 'capacities & response->international actors'),\n",
       " ('protection', 'capacities & response->rcrc movement'),\n",
       " ('logistics', 'scope & scale->drivers/aggravating factors'),\n",
       " ('education', 'capacities & response->national actors'),\n",
       " ('shelter', 'scope & scale->drivers/aggravating factors'),\n",
       " ('shelter', 'capacities & response->response gaps'),\n",
       " ('nutrition', 'capacities & response->national actors'),\n",
       " ('health', 'scope & scale->system disruption'),\n",
       " ('shelter', 'humanitarian conditions->people with specific needs'),\n",
       " ('cross', 'scope & scale->system disruption'),\n",
       " ('food', 'humanitarian conditions->coping mechanisms'),\n",
       " ('livelihoods', 'capacities & response->national actors'),\n",
       " ('food', 'humanitarian conditions->living standards'),\n",
       " ('health', 'capacities & response'),\n",
       " ('logistics', 'capacities & response->national actors'),\n",
       " ('cross', 'capacities & response'),\n",
       " ('shelter', 'capacities & response->national actors'),\n",
       " ('wash', 'scope & scale->drivers/aggravating factors'),\n",
       " ('health', 'capacities & response->international actors'),\n",
       " ('livelihoods', 'humanitarian conditions->coping mechanisms'),\n",
       " ('cross', 'capacities & response->international actors'),\n",
       " ('health', 'scope & scale->damages & losses'),\n",
       " ('food', 'capacities & response->system functionality'),\n",
       " ('food', 'capacities & response->rcrc movement'),\n",
       " ('food', 'capacities & response->government and local authorities'),\n",
       " ('cross', 'scope & scale->damages & losses'),\n",
       " ('health', 'humanitarian conditions->living standards'),\n",
       " ('livelihoods', 'humanitarian conditions->physical & mental wellbeing'),\n",
       " ('education', 'scope & scale->system disruption'),\n",
       " ('cross', 'humanitarian conditions->coping mechanisms'),\n",
       " ('cross', 'humanitarian conditions->living standards'),\n",
       " ('protection', 'scope & scale->drivers/aggravating factors'),\n",
       " ('livelihoods', 'scope & scale->system disruption'),\n",
       " ('wash', 'humanitarian conditions->coping mechanisms'),\n",
       " ('logistics', 'scope & scale->system disruption'),\n",
       " ('shelter', 'scope & scale->system disruption'),\n",
       " ('health', 'capacities & response->system functionality'),\n",
       " ('food', 'humanitarian conditions->risks & vulnerabilities'),\n",
       " ('health', 'capacities & response->government and local authorities'),\n",
       " ('health', 'capacities & response->rcrc movement'),\n",
       " ('cross', 'capacities & response->system functionality'),\n",
       " ('protection', 'capacities & response->national actors'),\n",
       " ('education', 'capacities & response->international actors'),\n",
       " ('cross', 'capacities & response->government and local authorities'),\n",
       " ('logistics', 'capacities & response'),\n",
       " ('education', 'scope & scale->damages & losses'),\n",
       " ('shelter', 'capacities & response'),\n",
       " ('livelihoods', 'capacities & response->international actors'),\n",
       " ('agriculture', 'scope & scale->damages & losses'),\n",
       " ('wash', 'capacities & response->system functionality'),\n",
       " ('education', 'humanitarian conditions->coping mechanisms'),\n",
       " ('wash', 'scope & scale->system disruption'),\n",
       " ('education', 'humanitarian conditions->living standards'),\n",
       " ('livelihoods', 'scope & scale->damages & losses'),\n",
       " ('food', 'humanitarian conditions->humanitarian conditions'),\n",
       " ('shelter', 'capacities & response->international actors'),\n",
       " ('logistics', 'scope & scale->damages & losses'),\n",
       " ('shelter', 'scope & scale->damages & losses'),\n",
       " ('health', 'humanitarian conditions->risks & vulnerabilities'),\n",
       " ('livelihoods', 'humanitarian conditions->living standards'),\n",
       " ('logistics', 'humanitarian conditions->coping mechanisms'),\n",
       " ('cross', 'humanitarian conditions->risks & vulnerabilities')]"
      ]
     },
     "execution_count": 16,
     "metadata": {},
     "output_type": "execute_result"
    }
   ],
   "source": [
    "matrix2dsubpillars_lst = get_2dsubpillars_unique_lst(df)\n",
    "matrix2dsubpillars_lst"
   ]
  },
  {
   "cell_type": "code",
   "execution_count": 17,
   "metadata": {},
   "outputs": [
    {
     "name": "stdout",
     "output_type": "stream",
     "text": [
      "['protection', 'shelter', 'education', 'food', 'livelihoods', 'health', 'cross', 'logistics', 'nutrition', 'agriculture', 'wash']\n"
     ]
    }
   ],
   "source": [
    "sectors_lst = list({tag[0] for tag in matrix2dsubpillars_lst}) # tag[0] contains sector\n",
    "print(sectors_lst)"
   ]
  },
  {
   "cell_type": "code",
   "execution_count": 18,
   "metadata": {},
   "outputs": [],
   "source": [
    "def calc_freq_df(subpillars_lst: list, key: str, filter_func: Callable) -> pd.DataFrame:\n",
    "    tag_freq = []\n",
    "    for tag in subpillars_lst:\n",
    "        tag_bool_set = [\n",
    "            filter_func(x, tag) for x in df[key].tolist()\n",
    "        ]\n",
    "        tag_freq.append(sum(tag_bool_set))\n",
    "    return pd.DataFrame({\"tags\": subpillars_lst, \"frequency\": tag_freq})"
   ]
  },
  {
   "cell_type": "code",
   "execution_count": 19,
   "metadata": {},
   "outputs": [],
   "source": [
    "def plot_frequency(tags_df: pd.DataFrame, title: Optional[str]=None, figsize: tuple=(5,5), x: str=\"tags\", y: str=\"frequency\"):\n",
    "    tags_df.plot.bar(x=x, y=y, rot=0, grid=True, title=title, figsize=figsize)\n",
    "    plt.xticks(rotation=90, fontsize=8)\n",
    "    plt.show()"
   ]
  },
  {
   "cell_type": "code",
   "execution_count": 20,
   "metadata": {},
   "outputs": [
    {
     "data": {
      "image/png": "[encoded data removed]",
      "text/plain": [
       "<Figure size 500x500 with 1 Axes>"
      ]
     },
     "metadata": {},
     "output_type": "display_data"
    }
   ],
   "source": [
    "sectors_freq = calc_freq_df(sectors_lst, \"matrix2dWidget\", tag_based_filter_sectors_2dsubpillars)\n",
    "plot_frequency(sectors_freq, title=\"Sectors Tags\", figsize=(5,5))"
   ]
  },
  {
   "cell_type": "code",
   "execution_count": 21,
   "metadata": {},
   "outputs": [
    {
     "data": {
      "text/plain": [
       "'cross'"
      ]
     },
     "execution_count": 21,
     "metadata": {},
     "output_type": "execute_result"
    }
   ],
   "source": [
    "tagname_sectors = sectors_freq.loc[sectors_freq[\"frequency\"].idxmax()][\"tags\"]\n",
    "tagname_sectors"
   ]
  },
  {
   "cell_type": "code",
   "execution_count": 22,
   "metadata": {},
   "outputs": [],
   "source": [
    "model = \"model1\""
   ]
  },
  {
   "cell_type": "code",
   "execution_count": 23,
   "metadata": {},
   "outputs": [],
   "source": [
    "def generate_summary_per_category_df(\n",
    "    tagnames: str,\n",
    "    filter_func: Callable,\n",
    "    key_type: str,\n",
    "    type: str,\n",
    "    summarizer_model: str,\n",
    "    project_id: int\n",
    ") -> pd.DataFrame:\n",
    "    input_excerpts = []\n",
    "    summaries_llm = []\n",
    "    summaries_inhouse = []\n",
    "    tag_names = []\n",
    "    for tagname in tagnames: #if tagname:\n",
    "        print(tagname)\n",
    "        tag_1d_subpillars_bool = [\n",
    "            filter_func(x, tagname) for x in df[key_type].tolist()\n",
    "        ]\n",
    "        filtered_df = df[pd.Series(tag_1d_subpillars_bool)]\n",
    "        \n",
    "        excerpt_texts = \"\\n\".join(filtered_df[\"excerpt\"].tolist()[:25])\n",
    "        \n",
    "        excerpt_ids = \", \".join([str(eid) for eid in filtered_df[\"entry_id\"].tolist()[:25]])\n",
    "        lead_ids = \", \".join([str(lid) for lid in filtered_df[\"lead_id\"].tolist()[:25]])\n",
    "        \n",
    "        text_summarizer = SummarizerModel(texts=excerpt_texts)  # fix this\n",
    "        \n",
    "        summary_llm = text_summarizer.summarizer()\n",
    "        summary_inhouse = summarizer_inhouse(excerpt_texts, deployed_endpoint_name=\"main-model-cpu\")\n",
    "        \n",
    "        input_excerpts.append(excerpt_texts)\n",
    "        summaries_llm.append(summary_llm['text'])\n",
    "        summaries_inhouse.append(summary_inhouse)\n",
    "        tag_names.append(tagname)\n",
    "\n",
    "    final_df = pd.DataFrame({\n",
    "        \"input_excerpts\": input_excerpts,\n",
    "        \"summaries_llm\": summaries_llm,\n",
    "        \"summaries_inhouse\": summaries_inhouse,\n",
    "        \"tag_name\": tag_names\n",
    "    })\n",
    "    final_df[\"project_id\"] = project_id\n",
    "    final_df[\"entry_ids\"] = excerpt_ids\n",
    "    final_df[\"lead_ids\"] = lead_ids\n",
    "    final_df[\"tag_type\"] = type\n",
    "    return final_df"
   ]
  },
  {
   "cell_type": "code",
   "execution_count": 24,
   "metadata": {},
   "outputs": [
    {
     "name": "stdout",
     "output_type": "stream",
     "text": [
      "protection\n"
     ]
    },
    {
     "name": "stderr",
     "output_type": "stream",
     "text": [
      "Asking to truncate to max_length but no maximum length is provided and the model has no predefined maximum length. Default to no truncation.\n"
     ]
    },
    {
     "name": "stdout",
     "output_type": "stream",
     "text": [
      "shelter\n",
      "education\n",
      "food\n",
      "livelihoods\n",
      "health\n",
      "cross\n",
      "logistics\n",
      "nutrition\n",
      "agriculture\n",
      "wash\n"
     ]
    },
    {
     "name": "stderr",
     "output_type": "stream",
     "text": [
      "Your min_length=16 must be inferior than your max_length=12.\n"
     ]
    }
   ],
   "source": [
    "f_df = generate_summary_per_category_df(\n",
    "    tagnames=sectors_lst, #tagname_sectors,\n",
    "    filter_func=tag_based_filter_sectors_2dsubpillars,\n",
    "    key_type=\"matrix2dWidget\",\n",
    "    type=\"Sectors\",\n",
    "    summarizer_model=model,\n",
    "    project_id=pid\n",
    ")"
   ]
  },
  {
   "cell_type": "code",
   "execution_count": 27,
   "metadata": {},
   "outputs": [],
   "source": [
    "f_df.to_csv(\"outputs/summaries1.csv\", index=False)"
   ]
  },
  {
   "cell_type": "code",
   "execution_count": 28,
   "metadata": {},
   "outputs": [
    {
     "data": {
      "text/plain": [
       "Index(['input_excerpts', 'summaries_llm', 'summaries_inhouse', 'tag_name',\n",
       "       'project_id', 'entry_ids', 'lead_ids', 'tag_type',\n",
       "       'summarization_model'],\n",
       "      dtype='object')"
      ]
     },
     "execution_count": 28,
     "metadata": {},
     "output_type": "execute_result"
    }
   ],
   "source": [
    "f_df.columns"
   ]
  },
  {
   "cell_type": "code",
   "execution_count": null,
   "metadata": {},
   "outputs": [],
   "source": []
  }
 ],
 "metadata": {
  "kernelspec": {
   "display_name": ".venv",
   "language": "python",
   "name": "python3"
  },
  "language_info": {
   "codemirror_mode": {
    "name": "ipython",
    "version": 3
   },
   "file_extension": ".py",
   "mimetype": "text/x-python",
   "name": "python",
   "nbconvert_exporter": "python",
   "pygments_lexer": "ipython3",
   "version": "3.8.10"
  },
  "orig_nbformat": 4
 },
 "nbformat": 4,
 "nbformat_minor": 2
}
